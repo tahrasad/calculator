{
 "cells": [
  {
   "cell_type": "markdown",
   "id": "70811ee6",
   "metadata": {},
   "source": [
    "### manipulation du pile:\n",
    "$$empile()$$ $$depile()$$ $$vide()$$"
   ]
  },
  {
   "cell_type": "code",
   "execution_count": 22,
   "id": "cf8a894b",
   "metadata": {},
   "outputs": [],
   "source": [
    "#Step1: Écrivez une classe appelée Stack\n",
    "\n",
    "#Step2: Ajoutons une liste vide dans la classe Stack avec un nom éléments\n",
    "\n",
    "#Step3:Écrivons un pousser méthode qui prend des données comme argument et ajouter à la éléments liste.\n",
    "   \n",
    "#Step4: écrivons le pop méthode qui fait sortir l'élément le plus haut de la empiler.\n",
    "#Nous pouvons utiliser le pop méthode de liste type de données.\n",
    "\n",
    "#Step5: Écrivons une méthode qui retourne si l'élément est vide ou non.\n",
    "   \n",
    "class pile: \n",
    "    def __init__(self): \n",
    "        self.elements = [] \n",
    "    \n",
    "    def push(self, data): \n",
    "        self.elements.append(data) \n",
    "        return data \n",
    "    \n",
    "    def pop(self): \n",
    "        return self.elements.pop() \n",
    "        \n",
    "    \n",
    "    def is_empty(self): \n",
    "        return len(self.elements) == 0\n",
    "\n",
    "if __name__ == '__main__':\n",
    "    pile = pile()    "
   ]
  },
  {
   "cell_type": "markdown",
   "id": "9468e477",
   "metadata": {},
   "source": [
    "$$ vérifiez --le --code $$"
   ]
  },
  {
   "cell_type": "code",
   "execution_count": 23,
   "id": "6099c3ae",
   "metadata": {},
   "outputs": [
    {
     "name": "stdout",
     "output_type": "stream",
     "text": [
      "True\n",
      "False\n",
      "True\n"
     ]
    }
   ],
   "source": [
    "## checking is_empty method -> true\n",
    "print(pile.is_empty())\n",
    "\n",
    "## pushing the elements\n",
    "pile.push(1)\n",
    "pile.push(2)\n",
    "pile.push(3)\n",
    "pile.push(4)\n",
    "pile.push(5)\n",
    "\n",
    "## again checking is_empty method -> false\n",
    "print(pile.is_empty())\n",
    "\n",
    "## popping the topmost element -> 5\n",
    "pile.pop()\n",
    "\n",
    "## popping all the elements\n",
    "pile.pop()\n",
    "pile.pop() \n",
    "pile.pop() \n",
    "pile.pop() \n",
    "\n",
    "## checking the is_empty method for the last time -> true\n",
    "print(pile.is_empty())\n",
    "\n",
    "# all sated up!"
   ]
  },
  {
   "cell_type": "markdown",
   "id": "20dc04a3",
   "metadata": {},
   "source": [
    "## Manipulation de chaînes\n",
    "$$split()$$ $$join$$ $$isdiget$$"
   ]
  },
  {
   "cell_type": "code",
   "execution_count": null,
   "id": "5789f7d4",
   "metadata": {},
   "outputs": [],
   "source": [
    "sentence = 'This is a sentence'\n",
    "class chaine:\n",
    "    def split(split_value):\n",
    "        "
   ]
  }
 ],
 "metadata": {
  "kernelspec": {
   "display_name": "Python 3 (ipykernel)",
   "language": "python",
   "name": "python3"
  },
  "language_info": {
   "codemirror_mode": {
    "name": "ipython",
    "version": 3
   },
   "file_extension": ".py",
   "mimetype": "text/x-python",
   "name": "python",
   "nbconvert_exporter": "python",
   "pygments_lexer": "ipython3",
   "version": "3.10.0"
  }
 },
 "nbformat": 4,
 "nbformat_minor": 5
}
